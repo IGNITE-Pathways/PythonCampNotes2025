{
  "nbformat": 4,
  "nbformat_minor": 0,
  "metadata": {
    "colab": {
      "provenance": []
    },
    "kernelspec": {
      "name": "python3",
      "display_name": "Python 3"
    },
    "language_info": {
      "name": "python"
    }
  },
  "cells": [
    {
      "cell_type": "markdown",
      "metadata": {
        "id": "a0431eba"
      },
      "source": [
        "##What is **File Handling in Python**\n",
        "\n",
        "File handling in Python refers to the process of working with files on your computer's file system. This includes tasks such as:\n",
        "\n",
        "*   **Reading from files:** Accessing the content of a file.\n",
        "*   **Writing to files:** Saving data to a file.\n",
        "*   **Creating new files:** Generating new files on your system.\n",
        "*   **Deleting files:** Removing files from your system.\n",
        "*   **Manipulating file metadata:** Changing information about a file, such as its name or permissions.\n",
        "\n",
        "File handling is essential for many programming tasks, including data storage, configuration settings, logging, and processing external data sources. Python provides built-in functions and modules that make it easy to interact with files in various formats, such as text files, binary files, CSV files, and more."
      ]
    },
    {
      "cell_type": "code",
      "metadata": {
        "id": "0d90ad74"
      },
      "source": [
        "# Open a file in write mode ('w'). If the file doesn't exist, it will be created.\n",
        "# If the file exists, its content will be overwritten.\n",
        "with open(\"my_new_file.txt\", \"w\") as file:\n",
        "    # Write some content to the file\n",
        "    file.write(\"Hello, this is a new file created using Python!\")\n",
        "    file.write(\"\\nThis is the second line.\")\n",
        "\n",
        "print(\"File 'my_new_file.txt' created successfully!\")"
      ],
      "execution_count": null,
      "outputs": []
    },
    {
      "cell_type": "markdown",
      "source": [
        "Open a file with a name of your choice and write your name\n",
        "\n",
        "\n",
        "```\n",
        "# Write your code here\n",
        "```\n",
        "\n"
      ],
      "metadata": {
        "id": "MR73_0yghaZJ"
      }
    },
    {
      "cell_type": "markdown",
      "metadata": {
        "id": "1509ab3a"
      },
      "source": [
        "## **Reading** Files in Python\n",
        "\n",
        "Reading from files is a fundamental operation in programming, especially when you need to load data that has been saved. In the context of a game, this is how you would typically load saved game states, configuration settings, or, as you mentioned, high scores.\n",
        "\n",
        "The general process for reading a file in Python involves:\n",
        "\n",
        "1.  **Opening the file:** You use the `open()` function, specifying the file path and the mode (`'r'` for reading).\n",
        "2.  **Reading the data:** You can read the entire file at once (`read()`), line by line (`readline()`), or all lines into a list (`readlines()`).\n",
        "3.  **Processing the data:** Once the data is read, you'll need to parse and process it according to its format (e.g., converting strings to numbers, splitting lines into individual scores).\n",
        "4.  **Closing the file:** It's good practice to close the file when you're done, although using `with open(...) as file:` handles this automatically.\n",
        "\n",
        "For reading high scores, you would open the file where they are stored, read the content, and then process each line or entry to get the individual scores. You might then sort them or display the top ones.\n",
        "\n",
        "Here's a code example that demonstrates reading from a file named `high_scores.txt`. We'll assume each line in this file contains a single high score."
      ]
    },
    {
      "cell_type": "code",
      "metadata": {
        "id": "f0572921"
      },
      "source": [
        "# First, let's create a dummy high_scores.txt file for demonstration\n",
        "# We'll keep this simple for now\n",
        "with open(\"high_scores.txt\", \"w\") as file:\n",
        "    file.write(\"1500\\n\")\n",
        "    file.write(\"2300\\n\")\n",
        "    file.write(\"1000\\n\")\n",
        "    file.write(\"5000\\n\")\n",
        "    file.write(\"3200\\n\")\n",
        "print(\"Created dummy high_scores.txt for reading demonstration.\")\n",
        "\n",
        "# Now, let's read the high scores from the file\n",
        "print(\"\\nReading high scores from high_scores.txt:\")\n",
        "high_scores = []\n",
        "\n",
        "# Open the file in read mode ('r')\n",
        "with open(\"high_scores.txt\", \"r\") as file:\n",
        "    # Read each line from the file\n",
        "    for line in file:\n",
        "        # Convert the line (which is a string) to an integer\n",
        "        score = int(line.strip()) # .strip() removes leading/trailing whitespace (like newline characters)\n",
        "        high_scores.append(score)\n",
        "\n",
        "# Now you have the high scores in a list, you can process them\n",
        "print(\"High scores read:\", high_scores)\n",
        "\n",
        "# For example, sort and display the top scores\n",
        "high_scores.sort(reverse=True)\n",
        "print(\"High scores (sorted):\", high_scores)"
      ],
      "execution_count": null,
      "outputs": []
    },
    {
      "cell_type": "markdown",
      "source": [
        "Create code to print your name from the previous file your created\n",
        "\n",
        "\n",
        "```\n",
        "# Write your code here\n",
        "```\n",
        "\n"
      ],
      "metadata": {
        "id": "MyBAz9OBjBNA"
      }
    },
    {
      "cell_type": "markdown",
      "metadata": {
        "id": "d2646a5f"
      },
      "source": [
        "## Exception Handling in Python\n",
        "\n",
        "Let's discuss exception handling.\n",
        "\n",
        "**Exception handling** in Python is a mechanism that allows you to gracefully deal with errors that occur during the execution of your program. These errors, called **exceptions**, disrupt the normal flow of the program's instructions.\n",
        "\n",
        "Think of it like this: when an unexpected situation arises that the program doesn't know how to handle in its regular flow (like trying to divide by zero, or trying to open a file that doesn't exist), an exception is \"raised\". If this exception isn't caught and handled, the program will crash.\n",
        "\n",
        "Exception handling allows you to:\n",
        "\n",
        "*   **Catch** these exceptions when they occur.\n",
        "*   **Handle** them in a way that prevents your program from crashing.\n",
        "*   **Provide informative messages** to the user or log the error for debugging.\n",
        "*   **Clean up resources**, even if errors occur (like ensuring a file is closed).\n",
        "\n",
        "The primary constructs for exception handling in Python are the `try`, `except`, `else`, and `finally` blocks:\n",
        "\n",
        "*   **`try`**: This block contains the code that might potentially raise an exception.\n",
        "*   **`except`**: If an exception occurs in the `try` block, the code in the `except` block is executed. You can specify different `except` blocks to handle different types of exceptions.\n",
        "*   **`else`**: The code in the `else` block is executed if the `try` block completes without raising any exceptions.\n",
        "*   **`finally`**: The code in the `finally` block is always executed, regardless of whether an exception occurred or not. This is often used for cleanup operations.\n",
        "\n",
        "Using exception handling makes your programs more robust and reliable, as they can anticipate and respond to unexpected situations instead of simply failing."
      ]
    },
    {
      "cell_type": "code",
      "metadata": {
        "id": "b4e2254d"
      },
      "source": [
        "def safe_division(numerator, denominator):\n",
        "    try:\n",
        "        result = numerator / denominator\n",
        "        print(f\"The result of the division is: {result}\")\n",
        "    except ZeroDivisionError:\n",
        "        print(\"Error: Cannot divide by zero!\")\n",
        "    except TypeError:\n",
        "        print(\"Error: Both inputs must be numbers.\")\n",
        "    except Exception as e:\n",
        "        print(f\"An unexpected error occurred: {e}\")\n",
        "\n",
        "\n",
        "# Example usage\n",
        "safe_division(10, 2)\n",
        "safe_division(10, 0)\n",
        "safe_division(10, \"a\")"
      ],
      "execution_count": null,
      "outputs": []
    },
    {
      "cell_type": "markdown",
      "source": [
        "It dosen't have to be specific to an error when excepting!"
      ],
      "metadata": {
        "id": "oBCz09g-j5au"
      }
    },
    {
      "cell_type": "code",
      "metadata": {
        "id": "d78fe04d"
      },
      "source": [
        "def generic_error_example(data):\n",
        "    try:\n",
        "        # This code might raise different types of errors depending on the input 'data'\n",
        "        result = 100 / data\n",
        "        print(f\"Result: {result}\")\n",
        "        print(data[0]) # Example of another potential error (e.g., if data is not a sequence)\n",
        "    except:\n",
        "        # This catches any type of exception\n",
        "        print(\"An error occurred during processing.\")\n",
        "\n",
        "# Example usage\n",
        "generic_error_example(10)\n",
        "generic_error_example(0) # Will cause a ZeroDivisionError\n",
        "generic_error_example(\"hello\") # Will cause a TypeError and potentially an IndexError if string is empty\n",
        "generic_error_example(None) # Will cause a TypeError"
      ],
      "execution_count": null,
      "outputs": []
    },
    {
      "cell_type": "markdown",
      "metadata": {
        "id": "860cebf1"
      },
      "source": [
        "Open a file with a name of your choice and write your name"
      ]
    },
    {
      "cell_type": "code",
      "metadata": {
        "id": "e8765837"
      },
      "source": [
        "# Write your code here"
      ],
      "execution_count": null,
      "outputs": []
    },
    {
      "cell_type": "markdown",
      "metadata": {
        "id": "ab9514df"
      },
      "source": [
        "Create code to print your name from the previous file your created"
      ]
    },
    {
      "cell_type": "code",
      "metadata": {
        "id": "4d8f6e79"
      },
      "source": [
        "# Write your code here"
      ],
      "execution_count": null,
      "outputs": []
    },
    {
      "cell_type": "markdown",
      "metadata": {
        "id": "cf518a36"
      },
      "source": [
        "Add an `except` block to the following code to catch and handle errors that will occur."
      ]
    },
    {
      "cell_type": "code",
      "metadata": {
        "id": "6b23cf08"
      },
      "source": [
        "def divide_by_zero_example(numerator, denominator):\n",
        "    try:\n",
        "        result = numerator / denominator\n",
        "        print(f\"The result is: {result}\")\n",
        "    # Add your except block here to catch ZeroDivisionError\n",
        "\n",
        "# Add the except block\n",
        "divide_by_zero_example(10, 0)"
      ],
      "execution_count": null,
      "outputs": []
    },
    {
      "cell_type": "code",
      "metadata": {
        "id": "8a6994ed"
      },
      "source": [
        "def save_high_score(score, filename):\n",
        "    \"\"\"Saves the high score to a file with error handling.\"\"\"\n",
        "    try:\n",
        "        with open(filename, 'w') as file:\n",
        "            file.write(str(score))\n",
        "        print(f\"High score {score} successfully saved to {filename}\")\n",
        "    except IOError as e:\n",
        "        print(f\"Error writing to file {filename}: {e}\")\n",
        "\n",
        "# Example usage (optional, for testing the function)\n",
        "# save_high_score(12345, highscore_file)\n",
        "# save_high_score(67890, \"nonexistent_directory/highscore.txt\") # Example of an error"
      ],
      "execution_count": null,
      "outputs": []
    },
    {
      "cell_type": "code",
      "metadata": {
        "id": "0403b6d9"
      },
      "source": [
        "def load_high_score(filename):\n",
        "    \"\"\"Loads the high score from a file with error handling.\"\"\"\n",
        "    try:\n",
        "        with open(filename, 'r') as file:\n",
        "            content = file.read()\n",
        "            high_score = int(content)\n",
        "        return high_score\n",
        "    except FileNotFoundError:\n",
        "        print(f\"Error: File '{filename}' not found.\")\n",
        "        return 0  # Return a default value\n",
        "    except ValueError:\n",
        "        print(f\"Error: Invalid content in '{filename}'. High score is not a valid number.\")\n",
        "        return 0  # Return a default value\n",
        "    except Exception as e:\n",
        "        print(f\"An unexpected error occurred while loading '{filename}': {e}\")\n",
        "        return 0  # Return a default value\n"
      ],
      "execution_count": null,
      "outputs": []
    },
    {
      "cell_type": "code",
      "metadata": {
        "colab": {
          "base_uri": "https://localhost:8080/"
        },
        "id": "5233abb1",
        "outputId": "8b6f0c70-081b-4497-f4a2-090e71f4e8ba"
      },
      "source": [
        "# Call the save_high_score function\n",
        "sample_score = 5000\n",
        "save_high_score(sample_score, highscore_file)\n",
        "\n",
        "# Call the load_high_score function and store the result\n",
        "loaded_score = load_high_score(highscore_file)\n",
        "\n",
        "# Print the loaded high score\n",
        "print(f\"Loaded high score: {loaded_score}\")\n",
        "\n",
        "# Test error handling by attempting to load a non-existent file\n",
        "print(\"\\nAttempting to load from a non-existent file:\")\n",
        "loaded_score_nonexistent = load_high_score(\"this_file_does_not_exist.txt\")\n",
        "print(f\"Loaded score from non-existent file: {loaded_score_nonexistent}\")"
      ],
      "execution_count": null,
      "outputs": [
        {
          "output_type": "stream",
          "name": "stdout",
          "text": [
            "High score 5000 successfully saved to highscore.txt\n",
            "Loaded high score: 5000\n",
            "\n",
            "Attempting to load from a non-existent file:\n",
            "Error: File 'this_file_does_not_exist.txt' not found.\n",
            "Loaded score from non-existent file: 0\n"
          ]
        }
      ]
    }
  ]
}