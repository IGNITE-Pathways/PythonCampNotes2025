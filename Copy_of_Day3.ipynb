{
  "cells": [
    {
      "cell_type": "markdown",
      "id": "97e7f964",
      "metadata": {
        "id": "97e7f964"
      },
      "source": [
        "# Welcome to IGNITE™ Pathways Python Summer Camp - Session 3\n",
        "### Topic: Libraries, Conditionals, Loops, and Random Static Target"
      ]
    },
    {
      "cell_type": "markdown",
      "id": "047f4cc7",
      "metadata": {
        "id": "047f4cc7"
      },
      "source": [
        "## 📲 Part 1: What Are Libraries?\n",
        "In Python, **libraries** are collections of pre-written code. They help you avoid writing everything from scratch and make coding easier and faster. They contain a list of **Functions** for the user to make use of.\n",
        "\n",
        "Examples today:\n",
        "- **random**: for randomness (e.g., random numbers, choices)\n",
        "- **time**: for adding delays and working with time\n",
        "- **os**: for working with folders and files\n",
        "- **sys**: for system functions (like quitting your program)\n",
        "- **pygame**: for building games (graphics, sounds, input)\n",
        "\n",
        "You use the `import` keyword to bring a library into your program.\n",
        "\n",
        "\n",
        "We'll be making the most use out of pygame"
      ]
    },
    {
      "cell_type": "markdown",
      "id": "c822b796",
      "metadata": {
        "id": "c822b796"
      },
      "source": [
        "## 📲 Part 2: Importing Libraries\n",
        "### Example: Import and use the random library to generate a random number:"
      ]
    },
    {
      "cell_type": "code",
      "execution_count": null,
      "id": "2a1b40da",
      "metadata": {
        "id": "2a1b40da"
      },
      "outputs": [],
      "source": [
        "import random\n",
        "\n",
        "random_number = random.randint(1, 10) #.__ used as a function under the module random.\n",
        "#randint is a function where it takes two parameters and generates a random number between them.\n",
        "print(\"Your random number is:\", random_number)"
      ]
    },
    {
      "cell_type": "markdown",
      "source": [
        "You can import modules differently too!"
      ],
      "metadata": {
        "id": "GHMB326WkX6j"
      },
      "id": "GHMB326WkX6j"
    },
    {
      "cell_type": "code",
      "source": [
        "from time import * #importing every specific feature from that module\n",
        "from time import sleep #just importing the sleep function\n",
        "import time as t #import a module as another name. Whenever you have a really long module name it makes it much simpler"
      ],
      "metadata": {
        "id": "dkhx1jflkE48"
      },
      "id": "dkhx1jflkE48",
      "execution_count": null,
      "outputs": []
    },
    {
      "cell_type": "markdown",
      "id": "f4424adf",
      "metadata": {
        "id": "f4424adf"
      },
      "source": [
        "🚀 Exercise: Import time and use time.sleep() to pause your code for 2 seconds before printing a message.\n",
        "\n",
        "📂 Your turn below:"
      ]
    },
    {
      "cell_type": "code",
      "execution_count": null,
      "id": "15cecfa7",
      "metadata": {
        "id": "15cecfa7"
      },
      "outputs": [],
      "source": []
    },
    {
      "cell_type": "markdown",
      "id": "639f97c3",
      "metadata": {
        "id": "639f97c3"
      },
      "source": [
        "## 📲 Part 3: Operators & Expressions\n",
        "**Operators** are special symbols in Python used to perform operations:\n",
        "- Arithmetic Operators: +, -, *, /, %\n",
        "- Comparison Operators: ==, !=, <, >, <=, >=\n",
        "- Logical Operators: and, or, not"
      ]
    },
    {
      "cell_type": "code",
      "execution_count": null,
      "id": "57d2b820",
      "metadata": {
        "id": "57d2b820"
      },
      "outputs": [],
      "source": [
        "print(5 + 3)  # Addition\n",
        "print(10 - 4) # Subtraction\n",
        "print(2 * 3)  # Multiplication\n",
        "print(8 / 2)  # Division\n",
        "\n",
        "print(8 % 4)  # Modulus\n",
        "\n",
        "\n",
        "print(5 == 5)  # Equal\n",
        "print(7 != 3)  # Not equal\n",
        "print(10 > 5)  # Greater than\n",
        "print(4 <= 4)  # Less than or equal\n",
        "\n",
        "print(True and False)\n",
        "print(True or False)\n",
        "print(not False)"
      ]
    },
    {
      "cell_type": "markdown",
      "id": "f89447d8",
      "metadata": {
        "id": "f89447d8"
      },
      "source": [
        "🚀 Exercise: Check if a number is between 5 and 15 using operators.\n",
        "\n",
        "📂 Your turn below:"
      ]
    },
    {
      "cell_type": "code",
      "execution_count": null,
      "id": "f834e64c",
      "metadata": {
        "id": "f834e64c"
      },
      "outputs": [],
      "source": []
    },
    {
      "cell_type": "markdown",
      "id": "cef8568c",
      "metadata": {
        "id": "cef8568c"
      },
      "source": [
        "## 📲 Part 4: Conditionals (if, elif, else)\n",
        "**Conditionals** let your program make decisions based on certain conditions. Use `if`, `elif`, and `else` to check conditions and run different code blocks."
      ]
    },
    {
      "cell_type": "markdown",
      "source": [
        "From a basic standpoint a condition is a question. is 100 = 50x2? is the same as:\n",
        "\n",
        "```\n",
        "100 == 50*2\n",
        "```\n",
        "\n"
      ],
      "metadata": {
        "id": "TDdk6urfkwnO"
      },
      "id": "TDdk6urfkwnO"
    },
    {
      "cell_type": "markdown",
      "source": [
        "Remember that question is either\n",
        "\n",
        "```\n",
        "True\n",
        "```\n",
        "or\n",
        "\n",
        "\n",
        "```\n",
        "False\n",
        "```\n",
        "\n",
        "So all the if statement is looking for is if that question is True or False. If its True then run it!"
      ],
      "metadata": {
        "id": "Z2iXqxT6k_Dm"
      },
      "id": "Z2iXqxT6k_Dm"
    },
    {
      "cell_type": "code",
      "execution_count": null,
      "id": "05d97c0d",
      "metadata": {
        "id": "05d97c0d"
      },
      "outputs": [],
      "source": [
        "number = 7\n",
        "\n",
        "if number < 5:\n",
        "    print(\"Number is less than 5.\")\n",
        "elif number < 10: #if the if statement on top dosen't run\n",
        "    print(\"Number is between 5 and 10.\")\n",
        "else: # if the if and elif don't run!\n",
        "    print(\"Number is 10 or more.\")"
      ]
    },
    {
      "cell_type": "markdown",
      "id": "7950ce1b",
      "metadata": {
        "id": "7950ce1b"
      },
      "source": [
        "🚀 Exercise: Change 'number' to test different conditions.\n",
        "\n",
        "📂 Your turn below:"
      ]
    },
    {
      "cell_type": "code",
      "execution_count": null,
      "id": "8a99a994",
      "metadata": {
        "id": "8a99a994"
      },
      "outputs": [],
      "source": []
    },
    {
      "cell_type": "markdown",
      "id": "3596bc3c",
      "metadata": {
        "id": "3596bc3c"
      },
      "source": [
        "## 📲 Part 5: Loops (for and while)\n",
        "**Loops** let you repeat code multiple times:\n",
        "- **while loop**: repeats while a condition is True.\n",
        "- **for loop**: repeats over a list or range.\n",
        "\n",
        "Remember you're still asking the computer a question! While that question remains true it continues to run for a while loop\n",
        "\n",
        "But for loops use a term called **iterate**"
      ]
    },
    {
      "cell_type": "code",
      "execution_count": null,
      "id": "5ca9bd44",
      "metadata": {
        "id": "5ca9bd44"
      },
      "outputs": [],
      "source": [
        "counter = 1\n",
        "while counter <= 5:\n",
        "    print(\"Count:\", counter)\n",
        "    counter += 1\n",
        "\n",
        "for color in [\"red\", \"blue\", \"green\"]:\n",
        "    print(\"Color:\", color)"
      ]
    },
    {
      "cell_type": "markdown",
      "source": [
        "What the for loop does is go through the options"
      ],
      "metadata": {
        "id": "dC9YlzvFlshz"
      },
      "id": "dC9YlzvFlshz"
    },
    {
      "cell_type": "markdown",
      "id": "3fa60586",
      "metadata": {
        "id": "3fa60586"
      },
      "source": [
        "🚀 Exercise: Use a while loop to count down from 5 to 1.\n",
        "\n",
        "📂 Your turn below:"
      ]
    },
    {
      "cell_type": "code",
      "execution_count": null,
      "id": "28ea23f7",
      "metadata": {
        "id": "28ea23f7"
      },
      "outputs": [],
      "source": []
    },
    {
      "cell_type": "markdown",
      "source": [
        "For loops can also make something run a certain amount of times! This is often done using the following code block\n",
        "\n",
        "```\n",
        "for i in range(10):\n",
        "  #write your code\n",
        "```\n",
        "ten is just a example but what is really happening is that i is being set from 1, 2, 3 ... 9, 10. If you want print i it will print those letters\n",
        "\n"
      ],
      "metadata": {
        "id": "NfWP2FINlx7c"
      },
      "id": "NfWP2FINlx7c"
    },
    {
      "cell_type": "markdown",
      "id": "fd027622",
      "metadata": {
        "id": "fd027622"
      },
      "source": [
        "## 📲 Part 6: Randomness with random Library"
      ]
    },
    {
      "cell_type": "code",
      "execution_count": null,
      "id": "875264eb",
      "metadata": {
        "id": "875264eb"
      },
      "outputs": [],
      "source": [
        "colors = [\"red\", \"blue\", \"green\", \"yellow\"]\n",
        "selected_color = random.choice(colors)\n",
        "print(\"Selected color:\", selected_color)\n",
        "\n",
        "random_score = random.randint(50, 100)\n",
        "print(\"Random score:\", random_score)"
      ]
    },
    {
      "cell_type": "markdown",
      "id": "085b10e8",
      "metadata": {
        "id": "085b10e8"
      },
      "source": [
        "🚀 Exercise: Use random.choice() to randomly pick your favorite snack.\n",
        "\n",
        "📂 Your turn below:"
      ]
    },
    {
      "cell_type": "code",
      "execution_count": null,
      "id": "d7f6a68d",
      "metadata": {
        "id": "d7f6a68d"
      },
      "outputs": [],
      "source": []
    },
    {
      "cell_type": "markdown",
      "id": "cad21bc4",
      "metadata": {
        "id": "cad21bc4"
      },
      "source": [
        "## 📲 Part 7: Project – Guess the Number Game\n",
        "Build a game where the player keeps guessing until correct."
      ]
    },
    {
      "cell_type": "code",
      "execution_count": null,
      "id": "40bc73d7",
      "metadata": {
        "id": "40bc73d7"
      },
      "outputs": [],
      "source": [
        "secret_number = random.randint(1, 10)\n",
        "guess = None\n",
        "\n",
        "while guess != secret_number:\n",
        "    guess = int(input(\"Guess a number between 1 and 10: \"))\n",
        "    if guess == secret_number:\n",
        "        print(\"Congratulations! You guessed correctly.\")\n",
        "    elif guess < secret_number:\n",
        "        print(\"Too low!\")\n",
        "    else:\n",
        "        print(\"Too high!\")"
      ]
    },
    {
      "cell_type": "markdown",
      "id": "8d2d8c8a",
      "metadata": {
        "id": "8d2d8c8a"
      },
      "source": [
        "📂 Your turn below:"
      ]
    },
    {
      "cell_type": "code",
      "execution_count": null,
      "id": "8f14e338",
      "metadata": {
        "id": "8f14e338"
      },
      "outputs": [],
      "source": []
    },
    {
      "cell_type": "markdown",
      "id": "8ec09b27",
      "metadata": {
        "id": "8ec09b27"
      },
      "source": [
        "## 📲 PART 8: CAPSTONE PROJECT - Part 3\n",
        "Now, in your archery game, display a static random target using random.choice()."
      ]
    },
    {
      "cell_type": "code",
      "execution_count": null,
      "id": "a4873b1e",
      "metadata": {
        "id": "a4873b1e"
      },
      "outputs": [],
      "source": [
        "import pygame\n",
        "import sys\n",
        "import os\n",
        "import time\n",
        "import random\n",
        "\n",
        "def setup_display():\n",
        "    WIDTH, HEIGHT = 800, 600\n",
        "    screen = pygame.display.set_mode((WIDTH, HEIGHT))\n",
        "    pygame.display.set_caption(\"Archery Game 🏹\")\n",
        "    return screen, WIDTH, HEIGHT\n",
        "\n",
        "def load_game_assets():\n",
        "    try:\n",
        "        background = pygame.image.load('sprites/sunset.png')\n",
        "        archer = pygame.image.load('sprites/archer.png')\n",
        "        red_target = pygame.image.load('sprites/red_target.png')\n",
        "        blue_target = pygame.image.load('sprites/bluetarget.png')\n",
        "        print(\"Assets loaded successfully!\")\n",
        "        return background, archer, red_target, blue_target\n",
        "    except:\n",
        "        print(\"Error loading images! Check your folders.\")\n",
        "        return None, None, None, None\n",
        "\n",
        "pygame.init()\n",
        "screen, WIDTH, HEIGHT = setup_display()\n",
        "background, archer, red_target, blue_target = load_game_assets()\n",
        "\n",
        "chosen_target = random.choice([red_target, blue_target])\n",
        "\n",
        "running = True\n",
        "while running:\n",
        "    for event in pygame.event.get():\n",
        "        if event.type == pygame.QUIT:\n",
        "            running = False\n",
        "\n",
        "    if background and archer and chosen_target:\n",
        "        screen.blit(background, (0, 0))\n",
        "        screen.blit(archer, (WIDTH//2 - 50, HEIGHT - 120))\n",
        "        screen.blit(chosen_target, (WIDTH//2 - 30, HEIGHT//2 - 30))\n",
        "\n",
        "    pygame.display.flip()\n",
        "\n",
        "pygame.quit()"
      ]
    }
  ],
  "metadata": {
    "colab": {
      "provenance": []
    }
  },
  "nbformat": 4,
  "nbformat_minor": 5
}