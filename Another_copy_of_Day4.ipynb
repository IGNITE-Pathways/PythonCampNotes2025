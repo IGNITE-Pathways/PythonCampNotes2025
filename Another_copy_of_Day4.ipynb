{
  "cells": [
    {
      "cell_type": "markdown",
      "id": "eb35082e",
      "metadata": {
        "id": "eb35082e"
      },
      "source": [
        "Python Summer Camp - Session 4"
      ]
    },
    {
      "cell_type": "markdown",
      "id": "f6b00350",
      "metadata": {
        "id": "f6b00350"
      },
      "source": [
        "Topic: Lists, Loops, and Game Logic"
      ]
    },
    {
      "cell_type": "markdown",
      "id": "9dce510d",
      "metadata": {
        "id": "9dce510d"
      },
      "source": [
        "==============================================================\n",
        "🚀 Today’s Goal:\n",
        "- Understand and use lists to store multiple items\n",
        "- Use loops to repeat code (for and while loops)\n",
        "- Start thinking about game logic (like moving arrows and targets!)\n",
        "=============================================================="
      ]
    },
    {
      "cell_type": "markdown",
      "id": "aebf6571",
      "metadata": {
        "id": "aebf6571"
      },
      "source": [
        "---\n",
        "🏹 Part 1: Lists - Your Toolbox for Keeping Track of Things"
      ]
    },
    {
      "cell_type": "markdown",
      "id": "5738e5e7",
      "metadata": {
        "id": "5738e5e7"
      },
      "source": [
        "Example: A list of high scores"
      ]
    },
    {
      "cell_type": "code",
      "execution_count": null,
      "id": "e4ec97e8",
      "metadata": {
        "id": "e4ec97e8"
      },
      "outputs": [],
      "source": [
        "high_scores = [100, 250, 340, 500]"
      ]
    },
    {
      "cell_type": "code",
      "execution_count": null,
      "id": "d500d42a",
      "metadata": {
        "id": "d500d42a"
      },
      "outputs": [],
      "source": [
        "print(f\"High Scores: {high_scores}\")"
      ]
    },
    {
      "cell_type": "markdown",
      "id": "e4c4df63",
      "metadata": {
        "id": "e4c4df63"
      },
      "source": [
        "Accessing items in a list"
      ]
    },
    {
      "cell_type": "code",
      "execution_count": null,
      "id": "1f1581a9",
      "metadata": {
        "id": "1f1581a9"
      },
      "outputs": [],
      "source": [
        "print(f\"Top score is: {high_scores[3]}\")  # Lists start at 0!"
      ]
    },
    {
      "cell_type": "markdown",
      "id": "acefeaa0",
      "metadata": {
        "id": "acefeaa0"
      },
      "source": [
        "Adding a new score"
      ]
    },
    {
      "cell_type": "code",
      "execution_count": null,
      "id": "2e2e70cf",
      "metadata": {
        "id": "2e2e70cf"
      },
      "outputs": [],
      "source": [
        "high_scores.append(420)"
      ]
    },
    {
      "cell_type": "code",
      "execution_count": null,
      "id": "5bde48e5",
      "metadata": {
        "id": "5bde48e5"
      },
      "outputs": [],
      "source": [
        "print(f\"New High Scores: {high_scores}\")"
      ]
    },
    {
      "cell_type": "markdown",
      "id": "78f1a273",
      "metadata": {
        "id": "78f1a273"
      },
      "source": [
        "Changing a score"
      ]
    },
    {
      "cell_type": "code",
      "execution_count": null,
      "id": "fd4b2f03",
      "metadata": {
        "id": "fd4b2f03"
      },
      "outputs": [],
      "source": [
        "high_scores[1] = 300"
      ]
    },
    {
      "cell_type": "code",
      "execution_count": null,
      "id": "57358f5c",
      "metadata": {
        "id": "57358f5c"
      },
      "outputs": [],
      "source": [
        "print(f\"Updated High Scores: {high_scores}\")"
      ]
    },
    {
      "cell_type": "markdown",
      "id": "65064e8d",
      "metadata": {
        "id": "65064e8d"
      },
      "source": [
        "---\n",
        "✍️ Exercise 1: Create a list of 5 favorite movies and print them one by one."
      ]
    },
    {
      "cell_type": "code",
      "execution_count": null,
      "id": "1e985bfc",
      "metadata": {
        "id": "1e985bfc"
      },
      "outputs": [],
      "source": [
        "favorite_movies = []  # <- Fill this list with your favorite movies"
      ]
    },
    {
      "cell_type": "code",
      "execution_count": null,
      "id": "ecf8e813",
      "metadata": {
        "id": "ecf8e813"
      },
      "outputs": [],
      "source": [
        "print(\"My Favorite Movies:\")"
      ]
    },
    {
      "cell_type": "code",
      "execution_count": null,
      "id": "7364e021",
      "metadata": {
        "id": "7364e021"
      },
      "outputs": [],
      "source": [
        "for movie in favorite_movies:"
      ]
    },
    {
      "cell_type": "code",
      "execution_count": null,
      "id": "8775f97f",
      "metadata": {
        "id": "8775f97f"
      },
      "outputs": [],
      "source": [
        "    print(movie)"
      ]
    },
    {
      "cell_type": "markdown",
      "id": "4e520659",
      "metadata": {
        "id": "4e520659"
      },
      "source": [
        "---\n",
        "✍️ Exercise 2: Make a list of 5 colors. Add two new colors using .append(). Then print the full list."
      ]
    },
    {
      "cell_type": "code",
      "execution_count": null,
      "id": "21f28b61",
      "metadata": {
        "id": "21f28b61"
      },
      "outputs": [],
      "source": [
        "colors = []  # <- Fill this list with some colors"
      ]
    },
    {
      "cell_type": "markdown",
      "id": "38466387",
      "metadata": {
        "id": "38466387"
      },
      "source": [
        "Add new colors\n",
        "colors.append(\"color1\")\n",
        "colors.append(\"color2\")"
      ]
    },
    {
      "cell_type": "code",
      "execution_count": null,
      "id": "da479038",
      "metadata": {
        "id": "da479038"
      },
      "outputs": [],
      "source": [
        "print(\"Colors List:\")"
      ]
    },
    {
      "cell_type": "markdown",
      "id": "d2ee14ee",
      "metadata": {
        "id": "d2ee14ee"
      },
      "source": [
        "for color in colors:\n",
        "print(color)"
      ]
    },
    {
      "cell_type": "markdown",
      "id": "4333fbee",
      "metadata": {
        "id": "4333fbee"
      },
      "source": [
        "---"
      ]
    },
    {
      "cell_type": "markdown",
      "id": "4dfe28a8",
      "metadata": {
        "id": "4dfe28a8"
      },
      "source": [
        "🌀 Part 2: Loops - Automate the Repetitive"
      ]
    },
    {
      "cell_type": "markdown",
      "id": "55af2bb9",
      "metadata": {
        "id": "55af2bb9"
      },
      "source": [
        "Example: Print numbers 1 to 10 using a for loop"
      ]
    },
    {
      "cell_type": "code",
      "execution_count": null,
      "id": "233d1911",
      "metadata": {
        "id": "233d1911"
      },
      "outputs": [],
      "source": [
        "for number in range(1, 11):"
      ]
    },
    {
      "cell_type": "code",
      "execution_count": null,
      "id": "70bc0822",
      "metadata": {
        "id": "70bc0822"
      },
      "outputs": [],
      "source": [
        "    print(f\"Number: {number}\")"
      ]
    },
    {
      "cell_type": "markdown",
      "id": "7aed0d38",
      "metadata": {
        "id": "7aed0d38"
      },
      "source": [
        "Example: Countdown with while loop"
      ]
    },
    {
      "cell_type": "code",
      "execution_count": null,
      "id": "ab26bb22",
      "metadata": {
        "id": "ab26bb22"
      },
      "outputs": [],
      "source": [
        "countdown = 10"
      ]
    },
    {
      "cell_type": "code",
      "execution_count": null,
      "id": "ce8df808",
      "metadata": {
        "id": "ce8df808"
      },
      "outputs": [],
      "source": [
        "while countdown > 0:"
      ]
    },
    {
      "cell_type": "code",
      "execution_count": null,
      "id": "f534d4cc",
      "metadata": {
        "id": "f534d4cc"
      },
      "outputs": [],
      "source": [
        "    print(f\"Countdown: {countdown}\")"
      ]
    },
    {
      "cell_type": "code",
      "execution_count": null,
      "id": "886784b1",
      "metadata": {
        "id": "886784b1"
      },
      "outputs": [],
      "source": [
        "    countdown -= 1"
      ]
    },
    {
      "cell_type": "code",
      "execution_count": null,
      "id": "724e309b",
      "metadata": {
        "id": "724e309b"
      },
      "outputs": [],
      "source": [
        "print(\"Liftoff!\")"
      ]
    },
    {
      "cell_type": "markdown",
      "id": "4cbfaba0",
      "metadata": {
        "id": "4cbfaba0"
      },
      "source": [
        "---\n",
        "✍️ Exercise 3: Print the numbers from 50 to 60 using a for loop.\n",
        "for number in range(50, 61):\n",
        "print(f\"Number: {number}\")"
      ]
    },
    {
      "cell_type": "markdown",
      "id": "d80e07c7",
      "metadata": {
        "id": "d80e07c7"
      },
      "source": [
        "---\n",
        "✍️ Exercise 4: Make a while loop that counts up from 1 to 5.\n",
        "counter = 1\n",
        "while counter <= 5:\n",
        "print(f\"Counter: {counter}\")\n",
        "counter += 1"
      ]
    },
    {
      "cell_type": "markdown",
      "id": "e70f3808",
      "metadata": {
        "id": "e70f3808"
      },
      "source": [
        "---\n",
        "Example: Use a for loop to print the letters in a word"
      ]
    },
    {
      "cell_type": "code",
      "execution_count": null,
      "id": "f1339e14",
      "metadata": {
        "id": "f1339e14"
      },
      "outputs": [],
      "source": [
        "word = \"Python\""
      ]
    },
    {
      "cell_type": "code",
      "execution_count": null,
      "id": "515c2222",
      "metadata": {
        "id": "515c2222"
      },
      "outputs": [],
      "source": [
        "for letter in word:"
      ]
    },
    {
      "cell_type": "code",
      "execution_count": null,
      "id": "39ee531b",
      "metadata": {
        "id": "39ee531b"
      },
      "outputs": [],
      "source": [
        "    print(f\"Letter: {letter}\")"
      ]
    },
    {
      "cell_type": "markdown",
      "id": "2e212131",
      "metadata": {
        "id": "2e212131"
      },
      "source": [
        "---\n",
        "✍️ Exercise 5: Print each letter in your favorite fruit using a for loop.\n",
        "fruit = \"banana\"\n",
        "for letter in fruit:\n",
        "print(f\"Letter: {letter}\")"
      ]
    },
    {
      "cell_type": "markdown",
      "id": "4286257b",
      "metadata": {
        "id": "4286257b"
      },
      "source": [
        "---"
      ]
    },
    {
      "cell_type": "markdown",
      "id": "05d6cd3b",
      "metadata": {
        "id": "05d6cd3b"
      },
      "source": [
        "🎮 Part 3: Using Lists + Loops in Simple Game Logic"
      ]
    },
    {
      "cell_type": "markdown",
      "id": "85fed49f",
      "metadata": {
        "id": "85fed49f"
      },
      "source": [
        "Example: Move a list of arrows forward in a game"
      ]
    },
    {
      "cell_type": "code",
      "execution_count": null,
      "id": "c632f109",
      "metadata": {
        "id": "c632f109"
      },
      "outputs": [],
      "source": [
        "arrow_positions = [0, 10, 20, 30]"
      ]
    },
    {
      "cell_type": "code",
      "execution_count": null,
      "id": "c962dfc1",
      "metadata": {
        "id": "c962dfc1"
      },
      "outputs": [],
      "source": [
        "print(f\"Starting Arrow Positions: {arrow_positions}\")"
      ]
    },
    {
      "cell_type": "markdown",
      "id": "87f6abe7",
      "metadata": {
        "id": "87f6abe7"
      },
      "source": [
        "Move each arrow forward by 5"
      ]
    },
    {
      "cell_type": "code",
      "execution_count": null,
      "id": "d292ea18",
      "metadata": {
        "id": "d292ea18"
      },
      "outputs": [],
      "source": [
        "for i in range(len(arrow_positions)):"
      ]
    },
    {
      "cell_type": "code",
      "execution_count": null,
      "id": "c19596e6",
      "metadata": {
        "id": "c19596e6"
      },
      "outputs": [],
      "source": [
        "    arrow_positions[i] += 5"
      ]
    },
    {
      "cell_type": "code",
      "execution_count": null,
      "id": "f10d95d6",
      "metadata": {
        "id": "f10d95d6"
      },
      "outputs": [],
      "source": [
        "print(f\"Arrow Positions after moving: {arrow_positions}\")"
      ]
    },
    {
      "cell_type": "markdown",
      "id": "8a6b33f4",
      "metadata": {
        "id": "8a6b33f4"
      },
      "source": [
        "---\n",
        "✍️ Exercise 6: Make a list of 5 enemy positions. Move them forward by 2."
      ]
    },
    {
      "cell_type": "code",
      "execution_count": null,
      "id": "01724bb1",
      "metadata": {
        "id": "01724bb1"
      },
      "outputs": [],
      "source": [
        "enemy_positions = []  # <- Fill with starting positions like [10, 20, 30, 40, 50]"
      ]
    },
    {
      "cell_type": "markdown",
      "id": "8f09b961",
      "metadata": {
        "id": "8f09b961"
      },
      "source": [
        "Move each enemy forward\n",
        "for i in range(len(enemy_positions)):\n",
        "enemy_positions[i] += 2"
      ]
    },
    {
      "cell_type": "markdown",
      "id": "d65c6e37",
      "metadata": {
        "id": "d65c6e37"
      },
      "source": [
        "print(f\"Enemy Positions after moving: {enemy_positions}\")"
      ]
    },
    {
      "cell_type": "markdown",
      "id": "7d41f805",
      "metadata": {
        "id": "7d41f805"
      },
      "source": [
        "---\n",
        "Challenge Example: Move arrows forward for 5 frames (loops within loops)"
      ]
    },
    {
      "cell_type": "code",
      "execution_count": null,
      "id": "a7c05bc9",
      "metadata": {
        "id": "a7c05bc9"
      },
      "outputs": [],
      "source": [
        "arrow_positions = [0, 10, 20, 30]"
      ]
    },
    {
      "cell_type": "code",
      "execution_count": null,
      "id": "cafaedc6",
      "metadata": {
        "id": "cafaedc6"
      },
      "outputs": [],
      "source": [
        "frames = 5"
      ]
    },
    {
      "cell_type": "code",
      "execution_count": null,
      "id": "6843eb2e",
      "metadata": {
        "id": "6843eb2e"
      },
      "outputs": [],
      "source": [
        "for frame in range(frames):"
      ]
    },
    {
      "cell_type": "code",
      "execution_count": null,
      "id": "b28ea9d9",
      "metadata": {
        "id": "b28ea9d9"
      },
      "outputs": [],
      "source": [
        "    print(f\"Frame {frame + 1}\")"
      ]
    },
    {
      "cell_type": "code",
      "execution_count": null,
      "id": "0a3151df",
      "metadata": {
        "id": "0a3151df"
      },
      "outputs": [],
      "source": [
        "    for i in range(len(arrow_positions)):"
      ]
    },
    {
      "cell_type": "code",
      "execution_count": null,
      "id": "c2617e2b",
      "metadata": {
        "id": "c2617e2b"
      },
      "outputs": [],
      "source": [
        "        arrow_positions[i] += 5"
      ]
    },
    {
      "cell_type": "code",
      "execution_count": null,
      "id": "46c2fa02",
      "metadata": {
        "id": "46c2fa02"
      },
      "outputs": [],
      "source": [
        "    print(f\"Arrow Positions: {arrow_positions}\")"
      ]
    },
    {
      "cell_type": "markdown",
      "id": "7334a260",
      "metadata": {
        "id": "7334a260"
      },
      "source": [
        "---\n",
        "✍️ Exercise 7: Simulate a race with 3 cars moving randomly.\n",
        "Hint: Use random.randint(1,5) for movement."
      ]
    },
    {
      "cell_type": "code",
      "execution_count": null,
      "id": "4a466f5b",
      "metadata": {
        "id": "4a466f5b"
      },
      "outputs": [],
      "source": [
        "import random"
      ]
    },
    {
      "cell_type": "code",
      "execution_count": null,
      "id": "3dd31335",
      "metadata": {
        "id": "3dd31335"
      },
      "outputs": [],
      "source": [
        "car_positions = [0, 0, 0]  # 3 cars at start line"
      ]
    },
    {
      "cell_type": "markdown",
      "id": "eccec8d3",
      "metadata": {
        "id": "eccec8d3"
      },
      "source": [
        "for step in range(10):  # 10 steps of the race\n",
        "for i in range(len(car_positions)):\n",
        "car_positions[i] += random.randint(1, 5)\n",
        "print(f\"Step {step+1} Positions: {car_positions}\")"
      ]
    },
    {
      "cell_type": "markdown",
      "id": "0ffbe967",
      "metadata": {
        "id": "0ffbe967"
      },
      "source": [
        "---"
      ]
    },
    {
      "cell_type": "markdown",
      "id": "05629fdc",
      "metadata": {
        "id": "05629fdc"
      },
      "source": [
        "📚 Part 4: Score Tracker with Loops"
      ]
    },
    {
      "cell_type": "code",
      "execution_count": null,
      "id": "63d59ee0",
      "metadata": {
        "id": "63d59ee0"
      },
      "outputs": [],
      "source": [
        "player_scores = []"
      ]
    },
    {
      "cell_type": "markdown",
      "id": "a8a0cb19",
      "metadata": {
        "id": "a8a0cb19"
      },
      "source": [
        "Simulate 10 rounds of play"
      ]
    },
    {
      "cell_type": "code",
      "execution_count": null,
      "id": "81ac6d37",
      "metadata": {
        "id": "81ac6d37"
      },
      "outputs": [],
      "source": [
        "for round_num in range(1, 11):"
      ]
    },
    {
      "cell_type": "code",
      "execution_count": null,
      "id": "f2503f82",
      "metadata": {
        "id": "f2503f82"
      },
      "outputs": [],
      "source": [
        "    score = random.randint(5, 25)"
      ]
    },
    {
      "cell_type": "code",
      "execution_count": null,
      "id": "3c46e64c",
      "metadata": {
        "id": "3c46e64c"
      },
      "outputs": [],
      "source": [
        "    print(f\"Round {round_num}: You earned {score} points!\")"
      ]
    },
    {
      "cell_type": "code",
      "execution_count": null,
      "id": "1d5c76f5",
      "metadata": {
        "id": "1d5c76f5"
      },
      "outputs": [],
      "source": [
        "    player_scores.append(score)"
      ]
    },
    {
      "cell_type": "code",
      "execution_count": null,
      "id": "da3c0273",
      "metadata": {
        "id": "da3c0273"
      },
      "outputs": [],
      "source": [
        "print(f\"All scores: {player_scores}\")"
      ]
    },
    {
      "cell_type": "code",
      "execution_count": null,
      "id": "a33b263b",
      "metadata": {
        "id": "a33b263b"
      },
      "outputs": [],
      "source": [
        "print(f\"Total Score: {sum(player_scores)}\")"
      ]
    },
    {
      "cell_type": "markdown",
      "id": "27d23447",
      "metadata": {
        "id": "27d23447"
      },
      "source": [
        "---\n",
        "✍️ Exercise 8: Change the scoring system to double the round number times 5.\n",
        "for round_num in range(1, 11):\n",
        "score = round_num * 2 * 5\n",
        "player_scores.append(score)\n",
        "print(player_scores)"
      ]
    },
    {
      "cell_type": "markdown",
      "id": "5c5d3f4e",
      "metadata": {
        "id": "5c5d3f4e"
      },
      "source": [
        "---\n",
        "🌟 Bonus Concept: Nested Loops (Loop inside a Loop)"
      ]
    },
    {
      "cell_type": "code",
      "execution_count": null,
      "id": "e3738782",
      "metadata": {
        "id": "e3738782"
      },
      "outputs": [],
      "source": [
        "players_arrows = [[0, 5, 10], [20, 25, 30], [40, 45, 50]]  # 3 players"
      ]
    },
    {
      "cell_type": "code",
      "execution_count": null,
      "id": "8e6bdbaa",
      "metadata": {
        "id": "8e6bdbaa"
      },
      "outputs": [],
      "source": [
        "for player_num in range(len(players_arrows)):"
      ]
    },
    {
      "cell_type": "code",
      "execution_count": null,
      "id": "2fc7ca18",
      "metadata": {
        "id": "2fc7ca18"
      },
      "outputs": [],
      "source": [
        "    print(f\"Player {player_num + 1} arrows:\")"
      ]
    },
    {
      "cell_type": "code",
      "execution_count": null,
      "id": "f600c410",
      "metadata": {
        "id": "f600c410"
      },
      "outputs": [],
      "source": [
        "    for arrow_pos in players_arrows[player_num]:"
      ]
    },
    {
      "cell_type": "code",
      "execution_count": null,
      "id": "dcb68bd7",
      "metadata": {
        "id": "dcb68bd7"
      },
      "outputs": [],
      "source": [
        "        print(f\" - Arrow at: {arrow_pos}\")"
      ]
    },
    {
      "cell_type": "markdown",
      "id": "643d46c4",
      "metadata": {
        "id": "643d46c4"
      },
      "source": [
        "---\n",
        "✍️ Exercise 9: Each player has 4 arrows starting at [0, 0, 0, 0]. Move each forward by 3.\n",
        "players_arrows = [[0, 0, 0, 0], [0, 0, 0, 0], [0, 0, 0, 0]]\n",
        "for player_num in range(len(players_arrows)):\n",
        "for i in range(len(players_arrows[player_num])):\n",
        "players_arrows[player_num][i] += 3\n",
        "print(players_arrows)"
      ]
    },
    {
      "cell_type": "markdown",
      "id": "2b6d749d",
      "metadata": {
        "id": "2b6d749d"
      },
      "source": [
        "---\n",
        "📊 Part 5: Visualizing Data with Text (Optional Fun)"
      ]
    },
    {
      "cell_type": "markdown",
      "id": "af2320f1",
      "metadata": {
        "id": "af2320f1"
      },
      "source": [
        "Print a simple bar chart of player_scores"
      ]
    },
    {
      "cell_type": "code",
      "execution_count": null,
      "id": "731303b7",
      "metadata": {
        "id": "731303b7"
      },
      "outputs": [],
      "source": [
        "print(\"Score Bar Chart:\")"
      ]
    },
    {
      "cell_type": "code",
      "execution_count": null,
      "id": "5c7afd33",
      "metadata": {
        "id": "5c7afd33"
      },
      "outputs": [],
      "source": [
        "for score in player_scores:"
      ]
    },
    {
      "cell_type": "code",
      "execution_count": null,
      "id": "ed3cb9e7",
      "metadata": {
        "id": "ed3cb9e7"
      },
      "outputs": [],
      "source": [
        "    print(\"|\" + \"#\" * (score // 2))"
      ]
    },
    {
      "cell_type": "markdown",
      "id": "840ff8c8",
      "metadata": {
        "id": "840ff8c8"
      },
      "source": [
        "---\n",
        "✍️ Exercise 10: Make a health bar for a player. Health starts at 100. Reduce by 10 per hit.\n",
        "player_health = 100\n",
        "while player_health > 0:\n",
        "print(\"Health: [\" + \"#\" * (player_health // 5) + \"]\")\n",
        "player_health -= 10"
      ]
    },
    {
      "cell_type": "markdown",
      "source": [
        "part 6 **What is object oriented programming**\n",
        "\n",
        "from a simple standpoint its structuring you're code around different objects in contexts of the code. These objects in our card are classes."
      ],
      "metadata": {
        "id": "H6mY5jYI7GfI"
      },
      "id": "H6mY5jYI7GfI"
    },
    {
      "cell_type": "markdown",
      "source": [
        "A **class** is a like a blueprint. We put together the functions within it to make a class"
      ],
      "metadata": {
        "id": "nVACeJRF7hmy"
      },
      "id": "nVACeJRF7hmy"
    },
    {
      "cell_type": "markdown",
      "source": [
        "Heres an example:"
      ],
      "metadata": {
        "id": "zdRKIX0N8ddK"
      },
      "id": "zdRKIX0N8ddK"
    },
    {
      "cell_type": "code",
      "source": [
        "  class Person:\n",
        "        def __init__(self, name, age):\n",
        "            self.name = name  # Instance attribute\n",
        "            self.age = age    # Instance attribute\n",
        "\n",
        "        def display_info(self):\n",
        "            print(f\"Name: {self.name}, Age: {self.age}\")"
      ],
      "metadata": {
        "id": "piysKsLl8gJN"
      },
      "id": "piysKsLl8gJN",
      "execution_count": null,
      "outputs": []
    },
    {
      "cell_type": "markdown",
      "source": [
        "Create your own class!"
      ],
      "metadata": {
        "id": "JHxWjcyO8hkn"
      },
      "id": "JHxWjcyO8hkn"
    },
    {
      "cell_type": "code",
      "source": [
        "#Insert here"
      ],
      "metadata": {
        "id": "9ukfKSTF8lQ1"
      },
      "id": "9ukfKSTF8lQ1",
      "execution_count": null,
      "outputs": []
    },
    {
      "cell_type": "markdown",
      "id": "9e8632c5",
      "metadata": {
        "id": "9e8632c5"
      },
      "source": [
        "---\n",
        "🏁 End of Session 4 Notebook"
      ]
    },
    {
      "cell_type": "markdown",
      "id": "a1c3a611",
      "metadata": {
        "id": "a1c3a611"
      },
      "source": [
        "Reminder:\n",
        "- Lists store multiple items.\n",
        "- Loops help you repeat tasks.\n",
        "- Lists + Loops together = power tools for games and apps!"
      ]
    },
    {
      "cell_type": "markdown",
      "id": "358b77dd",
      "metadata": {
        "id": "358b77dd"
      },
      "source": [
        "🚨 Save your notebook so you can continue building your game later!"
      ]
    }
  ],
  "metadata": {
    "colab": {
      "provenance": []
    }
  },
  "nbformat": 4,
  "nbformat_minor": 5
}